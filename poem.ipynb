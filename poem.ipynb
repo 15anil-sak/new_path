{
 "cells": [
  {
   "cell_type": "code",
   "execution_count": 6,
   "metadata": {},
   "outputs": [
    {
     "name": "stdout",
     "output_type": "stream",
     "text": [
      " twinkle ,twinkle,little star,\n",
      "  How I WOnder What you are!\n",
      "      Up above the WOrld so high'\n",
      "       Like a diamond in in the sky.\n",
      "Twinkle ,twinkle,ilttle star,\n",
      " HOw I Wonder WHat you are!\n"
     ]
    }
   ],
   "source": [
    "#twinkle twinkle star poem\n",
    "print(\"\"\" twinkle ,twinkle,little star,\\n  How I WOnder What you are!\\n      Up above the WOrld so high'\n",
    "       Like a diamond in in the sky.\\nTwinkle ,twinkle,ilttle star,\\n HOw I Wonder WHat you are!\"\"\")"
   ]
  },
  {
   "cell_type": "code",
   "execution_count": 8,
   "metadata": {},
   "outputs": [
    {
     "name": "stdout",
     "output_type": "stream",
     "text": [
      "xyc abz\n"
     ]
    }
   ],
   "source": [
    "\n",
    "def chars_mix_up(a, b):\n",
    "    new_a = b[:2] + a[2:]\n",
    "    new_b = a[:2] + b[2:]\n",
    "    return new_a + ' ' + new_b\n",
    "print(chars_mix_up('abc', 'xyz'))   \n"
   ]
  },
  {
   "cell_type": "code",
   "execution_count": 17,
   "metadata": {},
   "outputs": [
    {
     "ename": "IndentationError",
     "evalue": "unindent does not match any outer indentation level (<string>, line 6)",
     "output_type": "error",
     "traceback": [
      "\u001b[1;36m  File \u001b[1;32m<string>:6\u001b[1;36m\u001b[0m\n\u001b[1;33m    else:\u001b[0m\n\u001b[1;37m         ^\u001b[0m\n\u001b[1;31mIndentationError\u001b[0m\u001b[1;31m:\u001b[0m unindent does not match any outer indentation level\n"
     ]
    }
   ],
   "source": [
    "\n",
    "def add_string(str):\n",
    "    length=len(str)\n",
    "    if length>2:\n",
    "         if str[:-3]=='ing':\n",
    "           str+='ly'\n",
    "        else:\n",
    "            str+=ing  \n",
    "else:\n",
    "        return str\n",
    "print(add_string('abc'))\n",
    "print(add_string('xyz'))         \n",
    "\n",
    "\n"
   ]
  }
 ],
 "metadata": {
  "kernelspec": {
   "display_name": "Python 3",
   "language": "python",
   "name": "python3"
  },
  "language_info": {
   "codemirror_mode": {
    "name": "ipython",
    "version": 3
   },
   "file_extension": ".py",
   "mimetype": "text/x-python",
   "name": "python",
   "nbconvert_exporter": "python",
   "pygments_lexer": "ipython3",
   "version": "3.12.2"
  }
 },
 "nbformat": 4,
 "nbformat_minor": 2
}
